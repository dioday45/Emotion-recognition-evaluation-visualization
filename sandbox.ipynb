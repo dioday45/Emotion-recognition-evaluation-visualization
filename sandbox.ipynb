{
 "cells": [
  {
   "cell_type": "code",
   "execution_count": 40,
   "metadata": {},
   "outputs": [],
   "source": [
    "import pandas as pd"
   ]
  },
  {
   "cell_type": "code",
   "execution_count": 41,
   "metadata": {},
   "outputs": [],
   "source": [
    "eyes = pd.read_csv(\"data/participants/Participant 2/recording 1/eye_blendshapes.csv\")\n",
    "lips = pd.read_csv(\"data/participants/Participant 2/recording 1/lips_blendshapes.csv\")\n"
   ]
  },
  {
   "cell_type": "code",
   "execution_count": 42,
   "metadata": {},
   "outputs": [],
   "source": [
    "df = pd.concat([eyes, lips], axis=1)\n",
    "df2 = df[\"Expression\"]\n",
    "df = df.drop(\"Expression\", axis=1)\n",
    "df[df < 1e-2] = 0"
   ]
  },
  {
   "cell_type": "code",
   "execution_count": 43,
   "metadata": {},
   "outputs": [],
   "source": [
    "df.to_csv(\"data/participants/Participant 2/recording 1/data.csv\")\n",
    "df2.to_csv(\"data/participants/Participant 2/recording 1/truth.csv\")"
   ]
  },
  {
   "cell_type": "code",
   "execution_count": null,
   "metadata": {},
   "outputs": [],
   "source": []
  }
 ],
 "metadata": {
  "interpreter": {
   "hash": "df18ba07c2151e5962383feebd4dff886f7fe3a6979167b9621c6e241a893194"
  },
  "kernelspec": {
   "display_name": "Python 3.8.12 64-bit ('iig_rosetta': conda)",
   "language": "python",
   "name": "python3"
  },
  "language_info": {
   "codemirror_mode": {
    "name": "ipython",
    "version": 3
   },
   "file_extension": ".py",
   "mimetype": "text/x-python",
   "name": "python",
   "nbconvert_exporter": "python",
   "pygments_lexer": "ipython3",
   "version": "3.8.12"
  },
  "orig_nbformat": 4
 },
 "nbformat": 4,
 "nbformat_minor": 2
}
